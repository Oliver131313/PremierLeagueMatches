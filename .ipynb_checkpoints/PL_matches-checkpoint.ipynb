{
 "cells": [
  {
   "cell_type": "markdown",
   "metadata": {},
   "source": [
    "# Code for tyding up the data after scraping"
   ]
  },
  {
   "cell_type": "code",
   "execution_count": 1,
   "metadata": {
    "ExecuteTime": {
     "end_time": "2021-12-05T19:28:23.690647Z",
     "start_time": "2021-12-05T19:28:22.607998Z"
    },
    "scrolled": true
   },
   "outputs": [
    {
     "data": {
      "text/html": [
       "<div>\n",
       "<style scoped>\n",
       "    .dataframe tbody tr th:only-of-type {\n",
       "        vertical-align: middle;\n",
       "    }\n",
       "\n",
       "    .dataframe tbody tr th {\n",
       "        vertical-align: top;\n",
       "    }\n",
       "\n",
       "    .dataframe thead th {\n",
       "        text-align: right;\n",
       "    }\n",
       "</style>\n",
       "<table border=\"1\" class=\"dataframe\">\n",
       "  <thead>\n",
       "    <tr style=\"text-align: right;\">\n",
       "      <th></th>\n",
       "      <th>gameweek</th>\n",
       "      <th>dayofweek</th>\n",
       "      <th>date</th>\n",
       "      <th>time</th>\n",
       "      <th>squad_a</th>\n",
       "      <th>score</th>\n",
       "      <th>squad_b</th>\n",
       "      <th>attendance</th>\n",
       "      <th>venue</th>\n",
       "      <th>referee</th>\n",
       "      <th>match_report</th>\n",
       "      <th>notes</th>\n",
       "    </tr>\n",
       "  </thead>\n",
       "  <tbody>\n",
       "    <tr>\n",
       "      <th>0</th>\n",
       "      <td>1</td>\n",
       "      <td>Fri</td>\n",
       "      <td>2021-08-13</td>\n",
       "      <td>20:00</td>\n",
       "      <td>Brentford</td>\n",
       "      <td>2–0</td>\n",
       "      <td>Arsenal</td>\n",
       "      <td>16,479</td>\n",
       "      <td>Brentford Community Stadium</td>\n",
       "      <td>Michael Oliver</td>\n",
       "      <td>https://fbref.com/en/matches/3adf2aa7/Brentfor...</td>\n",
       "      <td>0</td>\n",
       "    </tr>\n",
       "    <tr>\n",
       "      <th>1</th>\n",
       "      <td>1</td>\n",
       "      <td>Sat</td>\n",
       "      <td>2021-08-14</td>\n",
       "      <td>12:30</td>\n",
       "      <td>Manchester Utd</td>\n",
       "      <td>5–1</td>\n",
       "      <td>Leeds United</td>\n",
       "      <td>72,732</td>\n",
       "      <td>Old Trafford</td>\n",
       "      <td>Paul Tierney</td>\n",
       "      <td>https://fbref.com/en/matches/e62685d4/Manchest...</td>\n",
       "      <td>0</td>\n",
       "    </tr>\n",
       "    <tr>\n",
       "      <th>2</th>\n",
       "      <td>1</td>\n",
       "      <td>Sat</td>\n",
       "      <td>2021-08-14</td>\n",
       "      <td>15:00</td>\n",
       "      <td>Leicester City</td>\n",
       "      <td>1–0</td>\n",
       "      <td>Wolves</td>\n",
       "      <td>31,983</td>\n",
       "      <td>King Power Stadium</td>\n",
       "      <td>Craig Pawson</td>\n",
       "      <td>https://fbref.com/en/matches/0b346a62/Leiceste...</td>\n",
       "      <td>0</td>\n",
       "    </tr>\n",
       "    <tr>\n",
       "      <th>3</th>\n",
       "      <td>1</td>\n",
       "      <td>Sat</td>\n",
       "      <td>2021-08-14</td>\n",
       "      <td>15:00</td>\n",
       "      <td>Burnley</td>\n",
       "      <td>1–2</td>\n",
       "      <td>Brighton</td>\n",
       "      <td>16,910</td>\n",
       "      <td>Turf Moor</td>\n",
       "      <td>David Coote</td>\n",
       "      <td>https://fbref.com/en/matches/4eb36e37/Burnley-...</td>\n",
       "      <td>0</td>\n",
       "    </tr>\n",
       "    <tr>\n",
       "      <th>4</th>\n",
       "      <td>1</td>\n",
       "      <td>Sat</td>\n",
       "      <td>2021-08-14</td>\n",
       "      <td>15:00</td>\n",
       "      <td>Watford</td>\n",
       "      <td>3–2</td>\n",
       "      <td>Aston Villa</td>\n",
       "      <td>20,051</td>\n",
       "      <td>Vicarage Road Stadium</td>\n",
       "      <td>Mike Dean</td>\n",
       "      <td>https://fbref.com/en/matches/814b563c/Watford-...</td>\n",
       "      <td>0</td>\n",
       "    </tr>\n",
       "    <tr>\n",
       "      <th>5</th>\n",
       "      <td>1</td>\n",
       "      <td>Sat</td>\n",
       "      <td>2021-08-14</td>\n",
       "      <td>15:00</td>\n",
       "      <td>Chelsea</td>\n",
       "      <td>3–0</td>\n",
       "      <td>Crystal Palace</td>\n",
       "      <td>38,965</td>\n",
       "      <td>Stamford Bridge</td>\n",
       "      <td>Jonathan Moss</td>\n",
       "      <td>https://fbref.com/en/matches/6f454493/Chelsea-...</td>\n",
       "      <td>0</td>\n",
       "    </tr>\n",
       "    <tr>\n",
       "      <th>6</th>\n",
       "      <td>1</td>\n",
       "      <td>Sat</td>\n",
       "      <td>2021-08-14</td>\n",
       "      <td>15:00</td>\n",
       "      <td>Everton</td>\n",
       "      <td>3–1</td>\n",
       "      <td>Southampton</td>\n",
       "      <td>38,487</td>\n",
       "      <td>Goodison Park</td>\n",
       "      <td>Andy Madley</td>\n",
       "      <td>https://fbref.com/en/matches/c99ebbf5/Everton-...</td>\n",
       "      <td>0</td>\n",
       "    </tr>\n",
       "    <tr>\n",
       "      <th>7</th>\n",
       "      <td>1</td>\n",
       "      <td>Sat</td>\n",
       "      <td>2021-08-14</td>\n",
       "      <td>17:30</td>\n",
       "      <td>Norwich City</td>\n",
       "      <td>0–3</td>\n",
       "      <td>Liverpool</td>\n",
       "      <td>27,023</td>\n",
       "      <td>Carrow Road</td>\n",
       "      <td>Andre Marriner</td>\n",
       "      <td>https://fbref.com/en/matches/c52500ad/Norwich-...</td>\n",
       "      <td>0</td>\n",
       "    </tr>\n",
       "    <tr>\n",
       "      <th>8</th>\n",
       "      <td>1</td>\n",
       "      <td>Sun</td>\n",
       "      <td>2021-08-15</td>\n",
       "      <td>14:00</td>\n",
       "      <td>Newcastle Utd</td>\n",
       "      <td>2–4</td>\n",
       "      <td>West Ham</td>\n",
       "      <td>50,673</td>\n",
       "      <td>St. James' Park</td>\n",
       "      <td>Martin Atkinson</td>\n",
       "      <td>https://fbref.com/en/matches/41091264/Newcastl...</td>\n",
       "      <td>0</td>\n",
       "    </tr>\n",
       "    <tr>\n",
       "      <th>9</th>\n",
       "      <td>1</td>\n",
       "      <td>Sun</td>\n",
       "      <td>2021-08-15</td>\n",
       "      <td>16:30</td>\n",
       "      <td>Tottenham</td>\n",
       "      <td>1–0</td>\n",
       "      <td>Manchester City</td>\n",
       "      <td>58,262</td>\n",
       "      <td>Tottenham Hotspur Stadium</td>\n",
       "      <td>Anthony Taylor</td>\n",
       "      <td>https://fbref.com/en/matches/ff51efc7/Tottenha...</td>\n",
       "      <td>0</td>\n",
       "    </tr>\n",
       "    <tr>\n",
       "      <th>10</th>\n",
       "      <td>2</td>\n",
       "      <td>Sat</td>\n",
       "      <td>2021-08-21</td>\n",
       "      <td>12:30</td>\n",
       "      <td>Liverpool</td>\n",
       "      <td>2–0</td>\n",
       "      <td>Burnley</td>\n",
       "      <td>52,591</td>\n",
       "      <td>Anfield</td>\n",
       "      <td>Mike Dean</td>\n",
       "      <td>https://fbref.com/en/matches/94d9dac0/Liverpoo...</td>\n",
       "      <td>0</td>\n",
       "    </tr>\n",
       "    <tr>\n",
       "      <th>11</th>\n",
       "      <td>2</td>\n",
       "      <td>Sat</td>\n",
       "      <td>2021-08-21</td>\n",
       "      <td>15:00</td>\n",
       "      <td>Aston Villa</td>\n",
       "      <td>2–0</td>\n",
       "      <td>Newcastle Utd</td>\n",
       "      <td>41,964</td>\n",
       "      <td>Villa Park</td>\n",
       "      <td>David Coote</td>\n",
       "      <td>https://fbref.com/en/matches/662d4074/Aston-Vi...</td>\n",
       "      <td>0</td>\n",
       "    </tr>\n",
       "    <tr>\n",
       "      <th>12</th>\n",
       "      <td>2</td>\n",
       "      <td>Sat</td>\n",
       "      <td>2021-08-21</td>\n",
       "      <td>15:00</td>\n",
       "      <td>Manchester City</td>\n",
       "      <td>5–0</td>\n",
       "      <td>Norwich City</td>\n",
       "      <td>51,437</td>\n",
       "      <td>Etihad Stadium</td>\n",
       "      <td>Graham Scott</td>\n",
       "      <td>https://fbref.com/en/matches/ab6db0d6/Manchest...</td>\n",
       "      <td>0</td>\n",
       "    </tr>\n",
       "    <tr>\n",
       "      <th>13</th>\n",
       "      <td>2</td>\n",
       "      <td>Sat</td>\n",
       "      <td>2021-08-21</td>\n",
       "      <td>15:00</td>\n",
       "      <td>Crystal Palace</td>\n",
       "      <td>0–0</td>\n",
       "      <td>Brentford</td>\n",
       "      <td>23,091</td>\n",
       "      <td>Selhurst Park</td>\n",
       "      <td>Martin Atkinson</td>\n",
       "      <td>https://fbref.com/en/matches/c8945d11/Crystal-...</td>\n",
       "      <td>0</td>\n",
       "    </tr>\n",
       "    <tr>\n",
       "      <th>14</th>\n",
       "      <td>2</td>\n",
       "      <td>Sat</td>\n",
       "      <td>2021-08-21</td>\n",
       "      <td>15:00</td>\n",
       "      <td>Leeds United</td>\n",
       "      <td>2–2</td>\n",
       "      <td>Everton</td>\n",
       "      <td>36,293</td>\n",
       "      <td>Elland Road</td>\n",
       "      <td>Darren England</td>\n",
       "      <td>https://fbref.com/en/matches/b9064680/Leeds-Un...</td>\n",
       "      <td>0</td>\n",
       "    </tr>\n",
       "  </tbody>\n",
       "</table>\n",
       "</div>"
      ],
      "text/plain": [
       "    gameweek dayofweek        date    time          squad_a score  \\\n",
       "0          1       Fri  2021-08-13  20:00         Brentford   2–0   \n",
       "1          1       Sat  2021-08-14  12:30    Manchester Utd   5–1   \n",
       "2          1       Sat  2021-08-14  15:00    Leicester City   1–0   \n",
       "3          1       Sat  2021-08-14  15:00           Burnley   1–2   \n",
       "4          1       Sat  2021-08-14  15:00           Watford   3–2   \n",
       "5          1       Sat  2021-08-14  15:00           Chelsea   3–0   \n",
       "6          1       Sat  2021-08-14  15:00           Everton   3–1   \n",
       "7          1       Sat  2021-08-14  17:30      Norwich City   0–3   \n",
       "8          1       Sun  2021-08-15  14:00     Newcastle Utd   2–4   \n",
       "9          1       Sun  2021-08-15  16:30         Tottenham   1–0   \n",
       "10         2       Sat  2021-08-21  12:30         Liverpool   2–0   \n",
       "11         2       Sat  2021-08-21  15:00       Aston Villa   2–0   \n",
       "12         2       Sat  2021-08-21  15:00   Manchester City   5–0   \n",
       "13         2       Sat  2021-08-21  15:00    Crystal Palace   0–0   \n",
       "14         2       Sat  2021-08-21  15:00      Leeds United   2–2   \n",
       "\n",
       "            squad_b attendance                        venue          referee  \\\n",
       "0           Arsenal     16,479  Brentford Community Stadium   Michael Oliver   \n",
       "1      Leeds United     72,732                 Old Trafford     Paul Tierney   \n",
       "2            Wolves     31,983           King Power Stadium     Craig Pawson   \n",
       "3          Brighton     16,910                    Turf Moor      David Coote   \n",
       "4       Aston Villa     20,051        Vicarage Road Stadium        Mike Dean   \n",
       "5    Crystal Palace     38,965              Stamford Bridge    Jonathan Moss   \n",
       "6       Southampton     38,487                Goodison Park      Andy Madley   \n",
       "7         Liverpool     27,023                  Carrow Road   Andre Marriner   \n",
       "8          West Ham     50,673              St. James' Park  Martin Atkinson   \n",
       "9   Manchester City     58,262    Tottenham Hotspur Stadium   Anthony Taylor   \n",
       "10          Burnley     52,591                      Anfield        Mike Dean   \n",
       "11    Newcastle Utd     41,964                   Villa Park      David Coote   \n",
       "12     Norwich City     51,437               Etihad Stadium     Graham Scott   \n",
       "13        Brentford     23,091                Selhurst Park  Martin Atkinson   \n",
       "14          Everton     36,293                  Elland Road   Darren England   \n",
       "\n",
       "                                         match_report notes  \n",
       "0   https://fbref.com/en/matches/3adf2aa7/Brentfor...     0  \n",
       "1   https://fbref.com/en/matches/e62685d4/Manchest...     0  \n",
       "2   https://fbref.com/en/matches/0b346a62/Leiceste...     0  \n",
       "3   https://fbref.com/en/matches/4eb36e37/Burnley-...     0  \n",
       "4   https://fbref.com/en/matches/814b563c/Watford-...     0  \n",
       "5   https://fbref.com/en/matches/6f454493/Chelsea-...     0  \n",
       "6   https://fbref.com/en/matches/c99ebbf5/Everton-...     0  \n",
       "7   https://fbref.com/en/matches/c52500ad/Norwich-...     0  \n",
       "8   https://fbref.com/en/matches/41091264/Newcastl...     0  \n",
       "9   https://fbref.com/en/matches/ff51efc7/Tottenha...     0  \n",
       "10  https://fbref.com/en/matches/94d9dac0/Liverpoo...     0  \n",
       "11  https://fbref.com/en/matches/662d4074/Aston-Vi...     0  \n",
       "12  https://fbref.com/en/matches/ab6db0d6/Manchest...     0  \n",
       "13  https://fbref.com/en/matches/c8945d11/Crystal-...     0  \n",
       "14  https://fbref.com/en/matches/b9064680/Leeds-Un...     0  "
      ]
     },
     "execution_count": 1,
     "metadata": {},
     "output_type": "execute_result"
    }
   ],
   "source": [
    "import numpy as np\n",
    "import pandas as pd\n",
    "import matplotlib.pyplot as plt\n",
    "import seaborn as sns\n",
    "plt.style.use('seaborn-whitegrid')\n",
    "\n",
    "pl = pd.read_csv('pl_scraped_data/PL_AllMatches_Scores_Links.csv')\n",
    "pl.head(15)"
   ]
  },
  {
   "cell_type": "code",
   "execution_count": 2,
   "metadata": {
    "ExecuteTime": {
     "end_time": "2021-12-05T19:28:23.705637Z",
     "start_time": "2021-12-05T19:28:23.692642Z"
    }
   },
   "outputs": [
    {
     "name": "stdout",
     "output_type": "stream",
     "text": [
      "0\n"
     ]
    }
   ],
   "source": [
    "# Was there a score that had more than 9 goals on either side? NO!\n",
    "len_score = [len(x) for x in pl.score.values]\n",
    "count = 0\n",
    "for score in len_score:\n",
    "    if score >= 4:\n",
    "        count += 1\n",
    "print(count)"
   ]
  },
  {
   "cell_type": "code",
   "execution_count": 3,
   "metadata": {
    "ExecuteTime": {
     "end_time": "2021-12-05T19:28:23.720568Z",
     "start_time": "2021-12-05T19:28:23.707604Z"
    }
   },
   "outputs": [
    {
     "data": {
      "text/plain": [
       "Index(['gameweek', 'dayofweek', 'date', 'time', 'squad_a', 'score', 'squad_b',\n",
       "       'attendance', 'venue', 'referee', 'match_report', 'notes'],\n",
       "      dtype='object')"
      ]
     },
     "execution_count": 3,
     "metadata": {},
     "output_type": "execute_result"
    }
   ],
   "source": [
    "pl.columns"
   ]
  },
  {
   "cell_type": "code",
   "execution_count": 4,
   "metadata": {
    "ExecuteTime": {
     "end_time": "2021-12-05T19:28:23.736527Z",
     "start_time": "2021-12-05T19:28:23.723562Z"
    }
   },
   "outputs": [],
   "source": [
    "# Just changing the columns so they're more comprehensible\n",
    "pl.columns = ['gameweek', 'dayofweek', 'date', 'time', 'h_Team', 'score', 'a_Team',\n",
    "       'att', 'stadium', 'ref', 'report_link', 'notes']"
   ]
  },
  {
   "cell_type": "markdown",
   "metadata": {},
   "source": [
    "__Create columns for goals scored by home/away side__"
   ]
  },
  {
   "cell_type": "code",
   "execution_count": 5,
   "metadata": {
    "ExecuteTime": {
     "end_time": "2021-12-05T19:28:23.751488Z",
     "start_time": "2021-12-05T19:28:23.737523Z"
    }
   },
   "outputs": [],
   "source": [
    "# Add scored goals for home and away side columns\n",
    "pl['h_scored'] = pl['score'].apply(lambda x: int(x[0]))\n",
    "pl['a_scored'] = pl['score'].apply(lambda x: int(x[-1]))"
   ]
  },
  {
   "cell_type": "code",
   "execution_count": 6,
   "metadata": {
    "ExecuteTime": {
     "end_time": "2021-12-05T19:28:23.766472Z",
     "start_time": "2021-12-05T19:28:23.753481Z"
    }
   },
   "outputs": [],
   "source": [
    "# Convert date col to datetime format\n",
    "pl['date'] = pd.to_datetime(pl['date'])"
   ]
  },
  {
   "cell_type": "code",
   "execution_count": 7,
   "metadata": {
    "ExecuteTime": {
     "end_time": "2021-12-05T19:28:23.798486Z",
     "start_time": "2021-12-05T19:28:23.768441Z"
    },
    "scrolled": false
   },
   "outputs": [
    {
     "data": {
      "text/html": [
       "<div>\n",
       "<style scoped>\n",
       "    .dataframe tbody tr th:only-of-type {\n",
       "        vertical-align: middle;\n",
       "    }\n",
       "\n",
       "    .dataframe tbody tr th {\n",
       "        vertical-align: top;\n",
       "    }\n",
       "\n",
       "    .dataframe thead th {\n",
       "        text-align: right;\n",
       "    }\n",
       "</style>\n",
       "<table border=\"1\" class=\"dataframe\">\n",
       "  <thead>\n",
       "    <tr style=\"text-align: right;\">\n",
       "      <th></th>\n",
       "      <th>gameweek</th>\n",
       "      <th>dayofweek</th>\n",
       "      <th>date</th>\n",
       "      <th>time</th>\n",
       "      <th>h_Team</th>\n",
       "      <th>score</th>\n",
       "      <th>a_Team</th>\n",
       "      <th>att</th>\n",
       "      <th>stadium</th>\n",
       "      <th>ref</th>\n",
       "      <th>report_link</th>\n",
       "      <th>notes</th>\n",
       "      <th>h_scored</th>\n",
       "      <th>a_scored</th>\n",
       "    </tr>\n",
       "  </thead>\n",
       "  <tbody>\n",
       "    <tr>\n",
       "      <th>380</th>\n",
       "      <td>1</td>\n",
       "      <td>Sat</td>\n",
       "      <td>2020-09-12</td>\n",
       "      <td>12:30</td>\n",
       "      <td>Fulham</td>\n",
       "      <td>0–3</td>\n",
       "      <td>Arsenal</td>\n",
       "      <td>0</td>\n",
       "      <td>Craven Cottage</td>\n",
       "      <td>Chris Kavanagh</td>\n",
       "      <td>https://fbref.com/en/matches/bf52349b/Fulham-A...</td>\n",
       "      <td>0</td>\n",
       "      <td>0</td>\n",
       "      <td>3</td>\n",
       "    </tr>\n",
       "    <tr>\n",
       "      <th>381</th>\n",
       "      <td>1</td>\n",
       "      <td>Sat</td>\n",
       "      <td>2020-09-12</td>\n",
       "      <td>15:00</td>\n",
       "      <td>Crystal Palace</td>\n",
       "      <td>1–0</td>\n",
       "      <td>Southampton</td>\n",
       "      <td>0</td>\n",
       "      <td>Selhurst Park</td>\n",
       "      <td>Jonathan Moss</td>\n",
       "      <td>https://fbref.com/en/matches/db261cb0/Crystal-...</td>\n",
       "      <td>0</td>\n",
       "      <td>1</td>\n",
       "      <td>0</td>\n",
       "    </tr>\n",
       "    <tr>\n",
       "      <th>382</th>\n",
       "      <td>1</td>\n",
       "      <td>Sat</td>\n",
       "      <td>2020-09-12</td>\n",
       "      <td>17:30</td>\n",
       "      <td>Liverpool</td>\n",
       "      <td>4–3</td>\n",
       "      <td>Leeds United</td>\n",
       "      <td>0</td>\n",
       "      <td>Anfield</td>\n",
       "      <td>Michael Oliver</td>\n",
       "      <td>https://fbref.com/en/matches/21b58926/Liverpoo...</td>\n",
       "      <td>0</td>\n",
       "      <td>4</td>\n",
       "      <td>3</td>\n",
       "    </tr>\n",
       "    <tr>\n",
       "      <th>383</th>\n",
       "      <td>1</td>\n",
       "      <td>Sat</td>\n",
       "      <td>2020-09-12</td>\n",
       "      <td>20:00</td>\n",
       "      <td>West Ham</td>\n",
       "      <td>0–2</td>\n",
       "      <td>Newcastle Utd</td>\n",
       "      <td>0</td>\n",
       "      <td>London Stadium</td>\n",
       "      <td>Stuart Attwell</td>\n",
       "      <td>https://fbref.com/en/matches/78495ced/West-Ham...</td>\n",
       "      <td>0</td>\n",
       "      <td>0</td>\n",
       "      <td>2</td>\n",
       "    </tr>\n",
       "    <tr>\n",
       "      <th>384</th>\n",
       "      <td>1</td>\n",
       "      <td>Sun</td>\n",
       "      <td>2020-09-13</td>\n",
       "      <td>14:00</td>\n",
       "      <td>West Brom</td>\n",
       "      <td>0–3</td>\n",
       "      <td>Leicester City</td>\n",
       "      <td>0</td>\n",
       "      <td>The Hawthorns</td>\n",
       "      <td>Anthony Taylor</td>\n",
       "      <td>https://fbref.com/en/matches/7dd01ca9/West-Bro...</td>\n",
       "      <td>0</td>\n",
       "      <td>0</td>\n",
       "      <td>3</td>\n",
       "    </tr>\n",
       "  </tbody>\n",
       "</table>\n",
       "</div>"
      ],
      "text/plain": [
       "     gameweek dayofweek       date    time          h_Team score  \\\n",
       "380         1       Sat 2020-09-12  12:30           Fulham   0–3   \n",
       "381         1       Sat 2020-09-12  15:00   Crystal Palace   1–0   \n",
       "382         1       Sat 2020-09-12  17:30        Liverpool   4–3   \n",
       "383         1       Sat 2020-09-12  20:00         West Ham   0–2   \n",
       "384         1       Sun 2020-09-13  14:00        West Brom   0–3   \n",
       "\n",
       "             a_Team att         stadium             ref  \\\n",
       "380         Arsenal   0  Craven Cottage  Chris Kavanagh   \n",
       "381     Southampton   0   Selhurst Park   Jonathan Moss   \n",
       "382    Leeds United   0         Anfield  Michael Oliver   \n",
       "383   Newcastle Utd   0  London Stadium  Stuart Attwell   \n",
       "384  Leicester City   0   The Hawthorns  Anthony Taylor   \n",
       "\n",
       "                                           report_link notes  h_scored  \\\n",
       "380  https://fbref.com/en/matches/bf52349b/Fulham-A...     0         0   \n",
       "381  https://fbref.com/en/matches/db261cb0/Crystal-...     0         1   \n",
       "382  https://fbref.com/en/matches/21b58926/Liverpoo...     0         4   \n",
       "383  https://fbref.com/en/matches/78495ced/West-Ham...     0         0   \n",
       "384  https://fbref.com/en/matches/7dd01ca9/West-Bro...     0         0   \n",
       "\n",
       "     a_scored  \n",
       "380         3  \n",
       "381         0  \n",
       "382         3  \n",
       "383         2  \n",
       "384         3  "
      ]
     },
     "execution_count": 7,
     "metadata": {},
     "output_type": "execute_result"
    }
   ],
   "source": [
    "# Sort dataset by the oldest matches\n",
    "pl.sort_values('date', ascending=True, inplace=True)\n",
    "pl.head()"
   ]
  },
  {
   "cell_type": "code",
   "execution_count": 8,
   "metadata": {
    "ExecuteTime": {
     "end_time": "2021-12-05T19:28:23.814346Z",
     "start_time": "2021-12-05T19:28:23.803349Z"
    }
   },
   "outputs": [],
   "source": [
    "# Drop time and notes columns\n",
    "pl.drop(['time', 'notes'], axis=1, inplace=True)"
   ]
  },
  {
   "cell_type": "markdown",
   "metadata": {},
   "source": [
    "## Create a dataset of all teams with needed columns"
   ]
  },
  {
   "cell_type": "code",
   "execution_count": 9,
   "metadata": {
    "ExecuteTime": {
     "end_time": "2021-12-05T19:28:23.829278Z",
     "start_time": "2021-12-05T19:28:23.817312Z"
    }
   },
   "outputs": [
    {
     "data": {
      "text/plain": [
       "Index(['gameweek', 'dayofweek', 'date', 'h_Team', 'score', 'a_Team', 'att',\n",
       "       'stadium', 'ref', 'report_link', 'h_scored', 'a_scored'],\n",
       "      dtype='object')"
      ]
     },
     "execution_count": 9,
     "metadata": {},
     "output_type": "execute_result"
    }
   ],
   "source": [
    "pl.columns"
   ]
  },
  {
   "cell_type": "code",
   "execution_count": 10,
   "metadata": {
    "ExecuteTime": {
     "end_time": "2021-12-05T19:28:23.844270Z",
     "start_time": "2021-12-05T19:28:23.831273Z"
    }
   },
   "outputs": [
    {
     "data": {
      "text/plain": [
       "True"
      ]
     },
     "execution_count": 10,
     "metadata": {},
     "output_type": "execute_result"
    }
   ],
   "source": [
    "# Each team must have played home...\n",
    "team_set = set(h for h in pl.h_Team)\n",
    "team_set2 = set(a for a in pl.a_Team)\n",
    "team_set == team_set2"
   ]
  },
  {
   "cell_type": "code",
   "execution_count": 11,
   "metadata": {
    "ExecuteTime": {
     "end_time": "2021-12-05T19:28:23.890115Z",
     "start_time": "2021-12-05T19:28:23.846233Z"
    }
   },
   "outputs": [
    {
     "data": {
      "text/html": [
       "<div>\n",
       "<style scoped>\n",
       "    .dataframe tbody tr th:only-of-type {\n",
       "        vertical-align: middle;\n",
       "    }\n",
       "\n",
       "    .dataframe tbody tr th {\n",
       "        vertical-align: top;\n",
       "    }\n",
       "\n",
       "    .dataframe thead th {\n",
       "        text-align: right;\n",
       "    }\n",
       "</style>\n",
       "<table border=\"1\" class=\"dataframe\">\n",
       "  <thead>\n",
       "    <tr style=\"text-align: right;\">\n",
       "      <th></th>\n",
       "      <th>index</th>\n",
       "      <th>gameweek</th>\n",
       "      <th>dayofweek</th>\n",
       "      <th>date</th>\n",
       "      <th>h_Team</th>\n",
       "      <th>score</th>\n",
       "      <th>a_Team</th>\n",
       "      <th>att</th>\n",
       "      <th>stadium</th>\n",
       "      <th>ref</th>\n",
       "      <th>report_link</th>\n",
       "      <th>h_scored</th>\n",
       "      <th>a_scored</th>\n",
       "    </tr>\n",
       "  </thead>\n",
       "  <tbody>\n",
       "    <tr>\n",
       "      <th>0</th>\n",
       "      <td>0</td>\n",
       "      <td>1</td>\n",
       "      <td>Sat</td>\n",
       "      <td>2020-09-12</td>\n",
       "      <td>Fulham</td>\n",
       "      <td>0–3</td>\n",
       "      <td>Arsenal</td>\n",
       "      <td>0</td>\n",
       "      <td>Craven Cottage</td>\n",
       "      <td>Chris Kavanagh</td>\n",
       "      <td>https://fbref.com/en/matches/bf52349b/Fulham-A...</td>\n",
       "      <td>0</td>\n",
       "      <td>3</td>\n",
       "    </tr>\n",
       "    <tr>\n",
       "      <th>1</th>\n",
       "      <td>1</td>\n",
       "      <td>1</td>\n",
       "      <td>Sat</td>\n",
       "      <td>2020-09-12</td>\n",
       "      <td>Crystal Palace</td>\n",
       "      <td>1–0</td>\n",
       "      <td>Southampton</td>\n",
       "      <td>0</td>\n",
       "      <td>Selhurst Park</td>\n",
       "      <td>Jonathan Moss</td>\n",
       "      <td>https://fbref.com/en/matches/db261cb0/Crystal-...</td>\n",
       "      <td>1</td>\n",
       "      <td>0</td>\n",
       "    </tr>\n",
       "    <tr>\n",
       "      <th>2</th>\n",
       "      <td>2</td>\n",
       "      <td>1</td>\n",
       "      <td>Sat</td>\n",
       "      <td>2020-09-12</td>\n",
       "      <td>Liverpool</td>\n",
       "      <td>4–3</td>\n",
       "      <td>Leeds United</td>\n",
       "      <td>0</td>\n",
       "      <td>Anfield</td>\n",
       "      <td>Michael Oliver</td>\n",
       "      <td>https://fbref.com/en/matches/21b58926/Liverpoo...</td>\n",
       "      <td>4</td>\n",
       "      <td>3</td>\n",
       "    </tr>\n",
       "    <tr>\n",
       "      <th>3</th>\n",
       "      <td>3</td>\n",
       "      <td>1</td>\n",
       "      <td>Sat</td>\n",
       "      <td>2020-09-12</td>\n",
       "      <td>West Ham</td>\n",
       "      <td>0–2</td>\n",
       "      <td>Newcastle Utd</td>\n",
       "      <td>0</td>\n",
       "      <td>London Stadium</td>\n",
       "      <td>Stuart Attwell</td>\n",
       "      <td>https://fbref.com/en/matches/78495ced/West-Ham...</td>\n",
       "      <td>0</td>\n",
       "      <td>2</td>\n",
       "    </tr>\n",
       "    <tr>\n",
       "      <th>4</th>\n",
       "      <td>4</td>\n",
       "      <td>1</td>\n",
       "      <td>Sun</td>\n",
       "      <td>2020-09-13</td>\n",
       "      <td>West Brom</td>\n",
       "      <td>0–3</td>\n",
       "      <td>Leicester City</td>\n",
       "      <td>0</td>\n",
       "      <td>The Hawthorns</td>\n",
       "      <td>Anthony Taylor</td>\n",
       "      <td>https://fbref.com/en/matches/7dd01ca9/West-Bro...</td>\n",
       "      <td>0</td>\n",
       "      <td>3</td>\n",
       "    </tr>\n",
       "    <tr>\n",
       "      <th>...</th>\n",
       "      <td>...</td>\n",
       "      <td>...</td>\n",
       "      <td>...</td>\n",
       "      <td>...</td>\n",
       "      <td>...</td>\n",
       "      <td>...</td>\n",
       "      <td>...</td>\n",
       "      <td>...</td>\n",
       "      <td>...</td>\n",
       "      <td>...</td>\n",
       "      <td>...</td>\n",
       "      <td>...</td>\n",
       "      <td>...</td>\n",
       "    </tr>\n",
       "    <tr>\n",
       "      <th>755</th>\n",
       "      <td>755</td>\n",
       "      <td>38</td>\n",
       "      <td>Sun</td>\n",
       "      <td>2022-05-22</td>\n",
       "      <td>Manchester City</td>\n",
       "      <td>0</td>\n",
       "      <td>Aston Villa</td>\n",
       "      <td>0</td>\n",
       "      <td>Etihad Stadium</td>\n",
       "      <td>0</td>\n",
       "      <td>https://fbref.com/en/stathead/matchup/squads/b...</td>\n",
       "      <td>0</td>\n",
       "      <td>0</td>\n",
       "    </tr>\n",
       "    <tr>\n",
       "      <th>756</th>\n",
       "      <td>756</td>\n",
       "      <td>38</td>\n",
       "      <td>Sun</td>\n",
       "      <td>2022-05-22</td>\n",
       "      <td>Burnley</td>\n",
       "      <td>0</td>\n",
       "      <td>Newcastle Utd</td>\n",
       "      <td>0</td>\n",
       "      <td>Turf Moor</td>\n",
       "      <td>0</td>\n",
       "      <td>https://fbref.com/en/stathead/matchup/squads/b...</td>\n",
       "      <td>0</td>\n",
       "      <td>0</td>\n",
       "    </tr>\n",
       "    <tr>\n",
       "      <th>757</th>\n",
       "      <td>757</td>\n",
       "      <td>38</td>\n",
       "      <td>Sun</td>\n",
       "      <td>2022-05-22</td>\n",
       "      <td>Arsenal</td>\n",
       "      <td>0</td>\n",
       "      <td>Everton</td>\n",
       "      <td>0</td>\n",
       "      <td>Emirates Stadium</td>\n",
       "      <td>0</td>\n",
       "      <td>https://fbref.com/en/stathead/matchup/squads/d...</td>\n",
       "      <td>0</td>\n",
       "      <td>0</td>\n",
       "    </tr>\n",
       "    <tr>\n",
       "      <th>758</th>\n",
       "      <td>758</td>\n",
       "      <td>38</td>\n",
       "      <td>Sun</td>\n",
       "      <td>2022-05-22</td>\n",
       "      <td>Chelsea</td>\n",
       "      <td>0</td>\n",
       "      <td>Watford</td>\n",
       "      <td>0</td>\n",
       "      <td>Stamford Bridge</td>\n",
       "      <td>0</td>\n",
       "      <td>https://fbref.com/en/stathead/matchup/squads/c...</td>\n",
       "      <td>0</td>\n",
       "      <td>0</td>\n",
       "    </tr>\n",
       "    <tr>\n",
       "      <th>759</th>\n",
       "      <td>759</td>\n",
       "      <td>38</td>\n",
       "      <td>Sun</td>\n",
       "      <td>2022-05-22</td>\n",
       "      <td>Leicester City</td>\n",
       "      <td>0</td>\n",
       "      <td>Southampton</td>\n",
       "      <td>0</td>\n",
       "      <td>King Power Stadium</td>\n",
       "      <td>0</td>\n",
       "      <td>https://fbref.com/en/stathead/matchup/squads/a...</td>\n",
       "      <td>0</td>\n",
       "      <td>0</td>\n",
       "    </tr>\n",
       "  </tbody>\n",
       "</table>\n",
       "<p>760 rows × 13 columns</p>\n",
       "</div>"
      ],
      "text/plain": [
       "     index  gameweek dayofweek       date           h_Team score  \\\n",
       "0        0         1       Sat 2020-09-12           Fulham   0–3   \n",
       "1        1         1       Sat 2020-09-12   Crystal Palace   1–0   \n",
       "2        2         1       Sat 2020-09-12        Liverpool   4–3   \n",
       "3        3         1       Sat 2020-09-12         West Ham   0–2   \n",
       "4        4         1       Sun 2020-09-13        West Brom   0–3   \n",
       "..     ...       ...       ...        ...              ...   ...   \n",
       "755    755        38       Sun 2022-05-22  Manchester City     0   \n",
       "756    756        38       Sun 2022-05-22          Burnley     0   \n",
       "757    757        38       Sun 2022-05-22          Arsenal     0   \n",
       "758    758        38       Sun 2022-05-22          Chelsea     0   \n",
       "759    759        38       Sun 2022-05-22   Leicester City     0   \n",
       "\n",
       "             a_Team att             stadium             ref  \\\n",
       "0           Arsenal   0      Craven Cottage  Chris Kavanagh   \n",
       "1       Southampton   0       Selhurst Park   Jonathan Moss   \n",
       "2      Leeds United   0             Anfield  Michael Oliver   \n",
       "3     Newcastle Utd   0      London Stadium  Stuart Attwell   \n",
       "4    Leicester City   0       The Hawthorns  Anthony Taylor   \n",
       "..              ...  ..                 ...             ...   \n",
       "755     Aston Villa   0      Etihad Stadium               0   \n",
       "756   Newcastle Utd   0           Turf Moor               0   \n",
       "757         Everton   0    Emirates Stadium               0   \n",
       "758         Watford   0     Stamford Bridge               0   \n",
       "759     Southampton   0  King Power Stadium               0   \n",
       "\n",
       "                                           report_link  h_scored  a_scored  \n",
       "0    https://fbref.com/en/matches/bf52349b/Fulham-A...         0         3  \n",
       "1    https://fbref.com/en/matches/db261cb0/Crystal-...         1         0  \n",
       "2    https://fbref.com/en/matches/21b58926/Liverpoo...         4         3  \n",
       "3    https://fbref.com/en/matches/78495ced/West-Ham...         0         2  \n",
       "4    https://fbref.com/en/matches/7dd01ca9/West-Bro...         0         3  \n",
       "..                                                 ...       ...       ...  \n",
       "755  https://fbref.com/en/stathead/matchup/squads/b...         0         0  \n",
       "756  https://fbref.com/en/stathead/matchup/squads/b...         0         0  \n",
       "757  https://fbref.com/en/stathead/matchup/squads/d...         0         0  \n",
       "758  https://fbref.com/en/stathead/matchup/squads/c...         0         0  \n",
       "759  https://fbref.com/en/stathead/matchup/squads/a...         0         0  \n",
       "\n",
       "[760 rows x 13 columns]"
      ]
     },
     "execution_count": 11,
     "metadata": {},
     "output_type": "execute_result"
    }
   ],
   "source": [
    "# Creating an ID for each game\n",
    "pl.reset_index(drop=True, inplace=True)\n",
    "pl.reset_index(inplace=True)\n",
    "pl"
   ]
  },
  {
   "cell_type": "code",
   "execution_count": 12,
   "metadata": {
    "ExecuteTime": {
     "end_time": "2021-12-05T19:28:23.906072Z",
     "start_time": "2021-12-05T19:28:23.892109Z"
    }
   },
   "outputs": [],
   "source": [
    "pl['id_game'] = pl['index']"
   ]
  },
  {
   "cell_type": "code",
   "execution_count": 13,
   "metadata": {
    "ExecuteTime": {
     "end_time": "2021-12-05T19:28:23.938042Z",
     "start_time": "2021-12-05T19:28:23.908067Z"
    }
   },
   "outputs": [],
   "source": [
    "pl['h_r_before'] = 1\n",
    "pl['a_r_before'] = 1\n",
    "pl['h_r_after'] = 0\n",
    "pl['a_r_after'] = 0\n",
    "\n",
    "# Result columns\n",
    "h_result = []\n",
    "a_result = []\n",
    "# Score diff. columns\n",
    "h_score_diff = []\n",
    "a_score_diff = []\n",
    "for x, y in zip(pl.h_scored.values, pl.a_scored.values):\n",
    "    h_sc = x - y\n",
    "    a_sc = y - x\n",
    "    h_score_diff.append(h_sc)\n",
    "    a_score_diff.append(a_sc)\n",
    "    if x > y:\n",
    "        h_result.append(1)\n",
    "        a_result.append(0)\n",
    "    if x == y:\n",
    "        h_result.append(0.5)\n",
    "        a_result.append(0.5)\n",
    "    if x < y:\n",
    "        h_result.append(0)\n",
    "        a_result.append(1)\n",
    "    \n",
    "pl['h_result'] = h_result\n",
    "pl['a_result'] = a_result\n",
    "pl['h_score_diff'] = h_score_diff\n",
    "pl['a_score_diff'] = a_score_diff"
   ]
  },
  {
   "cell_type": "code",
   "execution_count": 14,
   "metadata": {
    "ExecuteTime": {
     "end_time": "2021-12-05T19:28:23.953003Z",
     "start_time": "2021-12-05T19:28:23.939061Z"
    }
   },
   "outputs": [
    {
     "data": {
      "text/plain": [
       "759"
      ]
     },
     "execution_count": 14,
     "metadata": {},
     "output_type": "execute_result"
    }
   ],
   "source": [
    "pl.loc[pl.id_game.max()][0]"
   ]
  },
  {
   "cell_type": "code",
   "execution_count": 15,
   "metadata": {
    "ExecuteTime": {
     "end_time": "2021-12-05T19:28:23.967963Z",
     "start_time": "2021-12-05T19:28:23.954997Z"
    }
   },
   "outputs": [
    {
     "data": {
      "text/plain": [
       "27"
      ]
     },
     "execution_count": 15,
     "metadata": {},
     "output_type": "execute_result"
    }
   ],
   "source": [
    "pl.loc[(pl.id_game < 39) & (pl.a_Team == \"Arsenal\"), 'id_game'].max()"
   ]
  },
  {
   "cell_type": "markdown",
   "metadata": {},
   "source": [
    "## Create a dataset of played/not played games"
   ]
  },
  {
   "cell_type": "code",
   "execution_count": 16,
   "metadata": {
    "ExecuteTime": {
     "end_time": "2021-12-05T19:28:23.999876Z",
     "start_time": "2021-12-05T19:28:23.968960Z"
    }
   },
   "outputs": [],
   "source": [
    "pl_played = pl.loc[pl.score != \"0\"]\n",
    "pl_not_played = pl.loc[pl.score == '0']\n",
    "\n",
    "pl_played.to_csv('pl_played.csv', index=False )\n",
    "pl_not_played.to_csv('pl_not_played.csv', index=False)\n"
   ]
  }
 ],
 "metadata": {
  "kernelspec": {
   "display_name": "Python 3",
   "language": "python",
   "name": "python3"
  },
  "language_info": {
   "codemirror_mode": {
    "name": "ipython",
    "version": 3
   },
   "file_extension": ".py",
   "mimetype": "text/x-python",
   "name": "python",
   "nbconvert_exporter": "python",
   "pygments_lexer": "ipython3",
   "version": "3.8.3"
  },
  "latex_envs": {
   "LaTeX_envs_menu_present": true,
   "autoclose": false,
   "autocomplete": true,
   "bibliofile": "biblio.bib",
   "cite_by": "apalike",
   "current_citInitial": 1,
   "eqLabelWithNumbers": true,
   "eqNumInitial": 1,
   "hotkeys": {
    "equation": "Ctrl-E",
    "itemize": "Ctrl-I"
   },
   "labels_anchors": false,
   "latex_user_defs": false,
   "report_style_numbering": false,
   "user_envs_cfg": false
  },
  "toc": {
   "base_numbering": 1,
   "nav_menu": {},
   "number_sections": true,
   "sideBar": true,
   "skip_h1_title": false,
   "title_cell": "Table of Contents",
   "title_sidebar": "Contents",
   "toc_cell": false,
   "toc_position": {},
   "toc_section_display": true,
   "toc_window_display": false
  },
  "varInspector": {
   "cols": {
    "lenName": 16,
    "lenType": 16,
    "lenVar": 40
   },
   "kernels_config": {
    "python": {
     "delete_cmd_postfix": "",
     "delete_cmd_prefix": "del ",
     "library": "var_list.py",
     "varRefreshCmd": "print(var_dic_list())"
    },
    "r": {
     "delete_cmd_postfix": ") ",
     "delete_cmd_prefix": "rm(",
     "library": "var_list.r",
     "varRefreshCmd": "cat(var_dic_list()) "
    }
   },
   "position": {
    "height": "315.208px",
    "left": "1336.67px",
    "right": "20px",
    "top": "120px",
    "width": "350px"
   },
   "types_to_exclude": [
    "module",
    "function",
    "builtin_function_or_method",
    "instance",
    "_Feature"
   ],
   "window_display": false
  }
 },
 "nbformat": 4,
 "nbformat_minor": 4
}
