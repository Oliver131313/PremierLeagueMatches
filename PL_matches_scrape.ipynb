{
 "cells": [
  {
   "cell_type": "markdown",
   "metadata": {},
   "source": [
    "##### IMPORTANT!!!!! DO NOT SCRAPE IT AGAIN UNLESS THE DATA ARE WRONG"
   ]
  },
  {
   "cell_type": "markdown",
   "metadata": {},
   "source": [
    "# Web scrapping of Premier League players' statistics from all season"
   ]
  },
  {
   "cell_type": "code",
   "execution_count": 21,
   "metadata": {
    "ExecuteTime": {
     "end_time": "2021-12-01T20:24:24.205243Z",
     "start_time": "2021-12-01T20:24:23.977883Z"
    }
   },
   "outputs": [],
   "source": [
    "from bs4 import BeautifulSoup as soup\n",
    "from urllib.request import urlopen as uReq \n",
    "import re\n",
    "\n",
    "# Page to scrap from\n",
    "my_url = 'https://fbref.com/en/comps/9/history/Premier-League-Seasons'\n",
    "\n",
    "# Opening up connection, grabbing the page\n",
    "html = uReq(my_url)\n",
    "bs = soup(html.read(), 'html.parser')"
   ]
  },
  {
   "cell_type": "code",
   "execution_count": 22,
   "metadata": {
    "ExecuteTime": {
     "end_time": "2021-12-01T20:24:24.825894Z",
     "start_time": "2021-12-01T20:24:24.207240Z"
    },
    "scrolled": true
   },
   "outputs": [
    {
     "name": "stdout",
     "output_type": "stream",
     "text": [
      "https://fbref.com/en/comps/9/Premier-League-Stats\n",
      "https://fbref.com/en/comps/9/10728/2020-2021-Premier-League-Stats\n",
      "https://fbref.com/en/comps/9/3232/2019-2020-Premier-League-Stats\n",
      "https://fbref.com/en/comps/9/1889/2018-2019-Premier-League-Stats\n",
      "https://fbref.com/en/comps/9/1631/2017-2018-Premier-League-Stats\n",
      "https://fbref.com/en/comps/9/1526/2016-2017-Premier-League-Stats\n",
      "https://fbref.com/en/comps/9/1467/2015-2016-Premier-League-Stats\n",
      "https://fbref.com/en/comps/9/733/2014-2015-Premier-League-Stats\n",
      "https://fbref.com/en/comps/9/669/2013-2014-Premier-League-Stats\n",
      "https://fbref.com/en/comps/9/602/2012-2013-Premier-League-Stats\n",
      "https://fbref.com/en/comps/9/534/2011-2012-Premier-League-Stats\n",
      "https://fbref.com/en/comps/9/467/2010-2011-Premier-League-Stats\n",
      "https://fbref.com/en/comps/9/400/2009-2010-Premier-League-Stats\n",
      "https://fbref.com/en/comps/9/338/2008-2009-Premier-League-Stats\n",
      "https://fbref.com/en/comps/9/282/2007-2008-Premier-League-Stats\n",
      "https://fbref.com/en/comps/9/229/2006-2007-Premier-League-Stats\n",
      "https://fbref.com/en/comps/9/183/2005-2006-Premier-League-Stats\n",
      "https://fbref.com/en/comps/9/146/2004-2005-Premier-League-Stats\n",
      "https://fbref.com/en/comps/9/112/2003-2004-Premier-League-Stats\n",
      "https://fbref.com/en/comps/9/84/2002-2003-Premier-League-Stats\n",
      "https://fbref.com/en/comps/9/63/2001-2002-Premier-League-Stats\n",
      "https://fbref.com/en/comps/9/47/2000-2001-Premier-League-Stats\n",
      "https://fbref.com/en/comps/9/38/1999-2000-Premier-League-Stats\n",
      "https://fbref.com/en/comps/9/35/1998-1999-Premier-League-Stats\n",
      "https://fbref.com/en/comps/9/33/1997-1998-Premier-League-Stats\n",
      "https://fbref.com/en/comps/9/31/1996-1997-Premier-League-Stats\n",
      "https://fbref.com/en/comps/9/29/1995-1996-Premier-League-Stats\n",
      "https://fbref.com/en/comps/9/28/1994-1995-Premier-League-Stats\n",
      "https://fbref.com/en/comps/9/27/1993-1994-Premier-League-Stats\n",
      "https://fbref.com/en/comps/9/26/1992-1993-Premier-League-Stats\n"
     ]
    }
   ],
   "source": [
    "# Get an url for each PL season details\n",
    "seasons_links = []\n",
    "for x in bs.find_all('a', href=re.compile('^\\/en/comps/9/[0-9|P]+')):\n",
    "    pl = bs.find_all('a', text=\"Premier League\")\n",
    "    fa_pl = bs.find_all('a', text=\"FA Premier League\")\n",
    "    if x not in pl and x not in fa_pl:\n",
    "        #print(x.attrs['href'])\n",
    "        link = 'https://fbref.com' + x.attrs['href']\n",
    "        print(link)\n",
    "        seasons_links.append(link)"
   ]
  },
  {
   "cell_type": "code",
   "execution_count": 23,
   "metadata": {
    "ExecuteTime": {
     "end_time": "2021-12-01T20:24:27.107451Z",
     "start_time": "2021-12-01T20:24:24.826748Z"
    }
   },
   "outputs": [],
   "source": [
    "# For each season url, get an url to fixtures of that season\n",
    "fixtures_links = []\n",
    "for link in seasons_links[0:2]:\n",
    "    season = uReq(link)\n",
    "    bs_season = soup(season.read(), 'html.parser')\n",
    "    fixture = bs_season.find('a', href=re.compile('Premier-League-Scores-and-Fixtures+'))\n",
    "    fixture_link = 'https://fbref.com' + fixture.attrs['href']\n",
    "    fixtures_links.append(fixture_link)"
   ]
  },
  {
   "cell_type": "code",
   "execution_count": 24,
   "metadata": {
    "ExecuteTime": {
     "end_time": "2021-12-01T20:24:27.169324Z",
     "start_time": "2021-12-01T20:24:27.108454Z"
    }
   },
   "outputs": [
    {
     "ename": "ValueError",
     "evalue": "unknown url type: 'h'",
     "output_type": "error",
     "traceback": [
      "\u001b[1;31m---------------------------------------------------------------------------\u001b[0m",
      "\u001b[1;31mValueError\u001b[0m                                Traceback (most recent call last)",
      "\u001b[1;32m<ipython-input-24-d9ac3b08f3db>\u001b[0m in \u001b[0;36m<module>\u001b[1;34m\u001b[0m\n\u001b[0;32m      2\u001b[0m \u001b[1;32mfor\u001b[0m \u001b[0mlink\u001b[0m \u001b[1;32min\u001b[0m \u001b[0mfixtures_links\u001b[0m\u001b[1;33m[\u001b[0m\u001b[1;36m0\u001b[0m\u001b[1;33m]\u001b[0m\u001b[1;33m:\u001b[0m\u001b[1;33m\u001b[0m\u001b[1;33m\u001b[0m\u001b[0m\n\u001b[0;32m      3\u001b[0m     \u001b[0mx\u001b[0m \u001b[1;33m=\u001b[0m \u001b[1;36m0\u001b[0m\u001b[1;33m\u001b[0m\u001b[1;33m\u001b[0m\u001b[0m\n\u001b[1;32m----> 4\u001b[1;33m     \u001b[0mfix\u001b[0m \u001b[1;33m=\u001b[0m \u001b[0muReq\u001b[0m\u001b[1;33m(\u001b[0m\u001b[0mlink\u001b[0m\u001b[1;33m)\u001b[0m\u001b[1;33m\u001b[0m\u001b[1;33m\u001b[0m\u001b[0m\n\u001b[0m\u001b[0;32m      5\u001b[0m     \u001b[0mbs_fix\u001b[0m \u001b[1;33m=\u001b[0m \u001b[0msoup\u001b[0m\u001b[1;33m(\u001b[0m\u001b[0mfix\u001b[0m\u001b[1;33m.\u001b[0m\u001b[0mread\u001b[0m\u001b[1;33m(\u001b[0m\u001b[1;33m)\u001b[0m\u001b[1;33m,\u001b[0m \u001b[1;34m'html.parser'\u001b[0m\u001b[1;33m)\u001b[0m\u001b[1;33m\u001b[0m\u001b[1;33m\u001b[0m\u001b[0m\n\u001b[0;32m      6\u001b[0m     \u001b[0mdiv\u001b[0m \u001b[1;33m=\u001b[0m \u001b[0mbs_fix\u001b[0m\u001b[1;33m.\u001b[0m\u001b[0mfind\u001b[0m\u001b[1;33m(\u001b[0m\u001b[1;34m'div'\u001b[0m\u001b[1;33m,\u001b[0m \u001b[1;33m{\u001b[0m\u001b[1;34m'id'\u001b[0m\u001b[1;33m:\u001b[0m\u001b[1;34m'all_sched'\u001b[0m\u001b[1;33m}\u001b[0m\u001b[1;33m)\u001b[0m\u001b[1;33m\u001b[0m\u001b[1;33m\u001b[0m\u001b[0m\n",
      "\u001b[1;32m~\\Anaconda3\\lib\\urllib\\request.py\u001b[0m in \u001b[0;36murlopen\u001b[1;34m(url, data, timeout, cafile, capath, cadefault, context)\u001b[0m\n\u001b[0;32m    220\u001b[0m     \u001b[1;32melse\u001b[0m\u001b[1;33m:\u001b[0m\u001b[1;33m\u001b[0m\u001b[1;33m\u001b[0m\u001b[0m\n\u001b[0;32m    221\u001b[0m         \u001b[0mopener\u001b[0m \u001b[1;33m=\u001b[0m \u001b[0m_opener\u001b[0m\u001b[1;33m\u001b[0m\u001b[1;33m\u001b[0m\u001b[0m\n\u001b[1;32m--> 222\u001b[1;33m     \u001b[1;32mreturn\u001b[0m \u001b[0mopener\u001b[0m\u001b[1;33m.\u001b[0m\u001b[0mopen\u001b[0m\u001b[1;33m(\u001b[0m\u001b[0murl\u001b[0m\u001b[1;33m,\u001b[0m \u001b[0mdata\u001b[0m\u001b[1;33m,\u001b[0m \u001b[0mtimeout\u001b[0m\u001b[1;33m)\u001b[0m\u001b[1;33m\u001b[0m\u001b[1;33m\u001b[0m\u001b[0m\n\u001b[0m\u001b[0;32m    223\u001b[0m \u001b[1;33m\u001b[0m\u001b[0m\n\u001b[0;32m    224\u001b[0m \u001b[1;32mdef\u001b[0m \u001b[0minstall_opener\u001b[0m\u001b[1;33m(\u001b[0m\u001b[0mopener\u001b[0m\u001b[1;33m)\u001b[0m\u001b[1;33m:\u001b[0m\u001b[1;33m\u001b[0m\u001b[1;33m\u001b[0m\u001b[0m\n",
      "\u001b[1;32m~\\Anaconda3\\lib\\urllib\\request.py\u001b[0m in \u001b[0;36mopen\u001b[1;34m(self, fullurl, data, timeout)\u001b[0m\n\u001b[0;32m    507\u001b[0m         \u001b[1;31m# accept a URL or a Request object\u001b[0m\u001b[1;33m\u001b[0m\u001b[1;33m\u001b[0m\u001b[1;33m\u001b[0m\u001b[0m\n\u001b[0;32m    508\u001b[0m         \u001b[1;32mif\u001b[0m \u001b[0misinstance\u001b[0m\u001b[1;33m(\u001b[0m\u001b[0mfullurl\u001b[0m\u001b[1;33m,\u001b[0m \u001b[0mstr\u001b[0m\u001b[1;33m)\u001b[0m\u001b[1;33m:\u001b[0m\u001b[1;33m\u001b[0m\u001b[1;33m\u001b[0m\u001b[0m\n\u001b[1;32m--> 509\u001b[1;33m             \u001b[0mreq\u001b[0m \u001b[1;33m=\u001b[0m \u001b[0mRequest\u001b[0m\u001b[1;33m(\u001b[0m\u001b[0mfullurl\u001b[0m\u001b[1;33m,\u001b[0m \u001b[0mdata\u001b[0m\u001b[1;33m)\u001b[0m\u001b[1;33m\u001b[0m\u001b[1;33m\u001b[0m\u001b[0m\n\u001b[0m\u001b[0;32m    510\u001b[0m         \u001b[1;32melse\u001b[0m\u001b[1;33m:\u001b[0m\u001b[1;33m\u001b[0m\u001b[1;33m\u001b[0m\u001b[0m\n\u001b[0;32m    511\u001b[0m             \u001b[0mreq\u001b[0m \u001b[1;33m=\u001b[0m \u001b[0mfullurl\u001b[0m\u001b[1;33m\u001b[0m\u001b[1;33m\u001b[0m\u001b[0m\n",
      "\u001b[1;32m~\\Anaconda3\\lib\\urllib\\request.py\u001b[0m in \u001b[0;36m__init__\u001b[1;34m(self, url, data, headers, origin_req_host, unverifiable, method)\u001b[0m\n\u001b[0;32m    326\u001b[0m                  \u001b[0morigin_req_host\u001b[0m\u001b[1;33m=\u001b[0m\u001b[1;32mNone\u001b[0m\u001b[1;33m,\u001b[0m \u001b[0munverifiable\u001b[0m\u001b[1;33m=\u001b[0m\u001b[1;32mFalse\u001b[0m\u001b[1;33m,\u001b[0m\u001b[1;33m\u001b[0m\u001b[1;33m\u001b[0m\u001b[0m\n\u001b[0;32m    327\u001b[0m                  method=None):\n\u001b[1;32m--> 328\u001b[1;33m         \u001b[0mself\u001b[0m\u001b[1;33m.\u001b[0m\u001b[0mfull_url\u001b[0m \u001b[1;33m=\u001b[0m \u001b[0murl\u001b[0m\u001b[1;33m\u001b[0m\u001b[1;33m\u001b[0m\u001b[0m\n\u001b[0m\u001b[0;32m    329\u001b[0m         \u001b[0mself\u001b[0m\u001b[1;33m.\u001b[0m\u001b[0mheaders\u001b[0m \u001b[1;33m=\u001b[0m \u001b[1;33m{\u001b[0m\u001b[1;33m}\u001b[0m\u001b[1;33m\u001b[0m\u001b[1;33m\u001b[0m\u001b[0m\n\u001b[0;32m    330\u001b[0m         \u001b[0mself\u001b[0m\u001b[1;33m.\u001b[0m\u001b[0munredirected_hdrs\u001b[0m \u001b[1;33m=\u001b[0m \u001b[1;33m{\u001b[0m\u001b[1;33m}\u001b[0m\u001b[1;33m\u001b[0m\u001b[1;33m\u001b[0m\u001b[0m\n",
      "\u001b[1;32m~\\Anaconda3\\lib\\urllib\\request.py\u001b[0m in \u001b[0;36mfull_url\u001b[1;34m(self, url)\u001b[0m\n\u001b[0;32m    352\u001b[0m         \u001b[0mself\u001b[0m\u001b[1;33m.\u001b[0m\u001b[0m_full_url\u001b[0m \u001b[1;33m=\u001b[0m \u001b[0munwrap\u001b[0m\u001b[1;33m(\u001b[0m\u001b[0murl\u001b[0m\u001b[1;33m)\u001b[0m\u001b[1;33m\u001b[0m\u001b[1;33m\u001b[0m\u001b[0m\n\u001b[0;32m    353\u001b[0m         \u001b[0mself\u001b[0m\u001b[1;33m.\u001b[0m\u001b[0m_full_url\u001b[0m\u001b[1;33m,\u001b[0m \u001b[0mself\u001b[0m\u001b[1;33m.\u001b[0m\u001b[0mfragment\u001b[0m \u001b[1;33m=\u001b[0m \u001b[0m_splittag\u001b[0m\u001b[1;33m(\u001b[0m\u001b[0mself\u001b[0m\u001b[1;33m.\u001b[0m\u001b[0m_full_url\u001b[0m\u001b[1;33m)\u001b[0m\u001b[1;33m\u001b[0m\u001b[1;33m\u001b[0m\u001b[0m\n\u001b[1;32m--> 354\u001b[1;33m         \u001b[0mself\u001b[0m\u001b[1;33m.\u001b[0m\u001b[0m_parse\u001b[0m\u001b[1;33m(\u001b[0m\u001b[1;33m)\u001b[0m\u001b[1;33m\u001b[0m\u001b[1;33m\u001b[0m\u001b[0m\n\u001b[0m\u001b[0;32m    355\u001b[0m \u001b[1;33m\u001b[0m\u001b[0m\n\u001b[0;32m    356\u001b[0m     \u001b[1;33m@\u001b[0m\u001b[0mfull_url\u001b[0m\u001b[1;33m.\u001b[0m\u001b[0mdeleter\u001b[0m\u001b[1;33m\u001b[0m\u001b[1;33m\u001b[0m\u001b[0m\n",
      "\u001b[1;32m~\\Anaconda3\\lib\\urllib\\request.py\u001b[0m in \u001b[0;36m_parse\u001b[1;34m(self)\u001b[0m\n\u001b[0;32m    381\u001b[0m         \u001b[0mself\u001b[0m\u001b[1;33m.\u001b[0m\u001b[0mtype\u001b[0m\u001b[1;33m,\u001b[0m \u001b[0mrest\u001b[0m \u001b[1;33m=\u001b[0m \u001b[0m_splittype\u001b[0m\u001b[1;33m(\u001b[0m\u001b[0mself\u001b[0m\u001b[1;33m.\u001b[0m\u001b[0m_full_url\u001b[0m\u001b[1;33m)\u001b[0m\u001b[1;33m\u001b[0m\u001b[1;33m\u001b[0m\u001b[0m\n\u001b[0;32m    382\u001b[0m         \u001b[1;32mif\u001b[0m \u001b[0mself\u001b[0m\u001b[1;33m.\u001b[0m\u001b[0mtype\u001b[0m \u001b[1;32mis\u001b[0m \u001b[1;32mNone\u001b[0m\u001b[1;33m:\u001b[0m\u001b[1;33m\u001b[0m\u001b[1;33m\u001b[0m\u001b[0m\n\u001b[1;32m--> 383\u001b[1;33m             \u001b[1;32mraise\u001b[0m \u001b[0mValueError\u001b[0m\u001b[1;33m(\u001b[0m\u001b[1;34m\"unknown url type: %r\"\u001b[0m \u001b[1;33m%\u001b[0m \u001b[0mself\u001b[0m\u001b[1;33m.\u001b[0m\u001b[0mfull_url\u001b[0m\u001b[1;33m)\u001b[0m\u001b[1;33m\u001b[0m\u001b[1;33m\u001b[0m\u001b[0m\n\u001b[0m\u001b[0;32m    384\u001b[0m         \u001b[0mself\u001b[0m\u001b[1;33m.\u001b[0m\u001b[0mhost\u001b[0m\u001b[1;33m,\u001b[0m \u001b[0mself\u001b[0m\u001b[1;33m.\u001b[0m\u001b[0mselector\u001b[0m \u001b[1;33m=\u001b[0m \u001b[0m_splithost\u001b[0m\u001b[1;33m(\u001b[0m\u001b[0mrest\u001b[0m\u001b[1;33m)\u001b[0m\u001b[1;33m\u001b[0m\u001b[1;33m\u001b[0m\u001b[0m\n\u001b[0;32m    385\u001b[0m         \u001b[1;32mif\u001b[0m \u001b[0mself\u001b[0m\u001b[1;33m.\u001b[0m\u001b[0mhost\u001b[0m\u001b[1;33m:\u001b[0m\u001b[1;33m\u001b[0m\u001b[1;33m\u001b[0m\u001b[0m\n",
      "\u001b[1;31mValueError\u001b[0m: unknown url type: 'h'"
     ]
    }
   ],
   "source": [
    "# Get the header from table in fixtures\n",
    "for link in fixtures_links[0]:\n",
    "    x = 0\n",
    "    fix = uReq(link)\n",
    "    bs_fix = soup(fix.read(), 'html.parser')\n",
    "    div = bs_fix.find('div', {'id':'all_sched'})\n",
    "    header_row = div.find_all('th', {'class': [' ', 'poptip','sort_default_asc', 'center']})[0:14]\n",
    "    print(header_row)"
   ]
  },
  {
   "cell_type": "markdown",
   "metadata": {
    "ExecuteTime": {
     "end_time": "2021-09-06T19:13:20.767563Z",
     "start_time": "2021-09-06T19:13:18.661280Z"
    },
    "scrolled": true
   },
   "source": [
    "# Get the header from table in fixtures\n",
    "for link in fixtures_links:\n",
    "    x = 0\n",
    "    fix = uReq(link)\n",
    "    bs_fix = soup(fix.read(), 'html.parser')\n",
    "    div = bs_fix.find('div', {'id':'all_sched'})\n",
    "    header_row = div.find_all('th', {'class': [' ', 'poptip','sort_default_asc', 'center']})[0:14]\n",
    "    print(header_row)\n",
    "    x = 1\n",
    "    if x == 1:\n",
    "        break"
   ]
  },
  {
   "cell_type": "code",
   "execution_count": null,
   "metadata": {
    "ExecuteTime": {
     "end_time": "2021-12-01T20:24:27.171286Z",
     "start_time": "2021-12-01T20:24:24.002Z"
    }
   },
   "outputs": [],
   "source": [
    "# (continued) Get the header from table in fixtures\n",
    "header = []\n",
    "for h in header_row:\n",
    "    print(h.attrs['data-stat'])\n",
    "    header.append(h.attrs['data-stat'])"
   ]
  },
  {
   "cell_type": "code",
   "execution_count": null,
   "metadata": {
    "ExecuteTime": {
     "end_time": "2021-12-01T20:24:27.172284Z",
     "start_time": "2021-12-01T20:24:24.003Z"
    }
   },
   "outputs": [],
   "source": [
    "# Just removing useless cols\n",
    "header.remove('xg_a')\n",
    "header.remove('xg_b')"
   ]
  },
  {
   "cell_type": "code",
   "execution_count": null,
   "metadata": {
    "ExecuteTime": {
     "end_time": "2021-12-01T20:24:27.173279Z",
     "start_time": "2021-12-01T20:24:24.004Z"
    }
   },
   "outputs": [],
   "source": [
    "# Get a table of fixtures for each season\n",
    "tables = []\n",
    "for link in fixtures_links:\n",
    "    fix = uReq(link)\n",
    "    bs_fix = soup(fix.read(), 'html.parser')\n",
    "    div = bs_fix.find('div', {'id':'all_sched'})\n",
    "    tables.append(div)"
   ]
  },
  {
   "cell_type": "code",
   "execution_count": null,
   "metadata": {
    "ExecuteTime": {
     "end_time": "2021-12-01T20:24:27.174277Z",
     "start_time": "2021-12-01T20:24:24.005Z"
    }
   },
   "outputs": [],
   "source": [
    "# Create a dictionary with data for each statistic (column) by using for loop\n",
    "data = dict()\n",
    "for h in header:\n",
    "    data[h] = []\n",
    "    if h == 'gameweek':\n",
    "        for table in tables:\n",
    "            key = table.find_all('th', {'data-stat': h})\n",
    "            for k in key:\n",
    "                if k.get_text() == 'Wk':\n",
    "                    continue\n",
    "                elif len(k)==0:\n",
    "                    data[h].append(0)\n",
    "                else:\n",
    "                    data[h].append(k.get_text())\n",
    "    elif h == 'match_report':\n",
    "        for table in tables:\n",
    "            key = table.find_all('td', {'data-stat': h})\n",
    "            for k in key:\n",
    "                try:\n",
    "                    a = k.find('a')\n",
    "                    link = 'https://fbref.com' + a.attrs['href']\n",
    "                    data[h].append(link)\n",
    "                except AttributeError:\n",
    "                    data[h].append(0)\n",
    "    else: \n",
    "        for table in tables:\n",
    "            key = table.find_all('td', {'data-stat': h})         \n",
    "            for k in key:\n",
    "                if len(k)==0:\n",
    "                    data[h].append(0)\n",
    "                else:\n",
    "                    data[h].append(k.get_text())\n",
    "\n",
    "for k, v in data.items():\n",
    "    print(f\"{k}: {len(v)}\")"
   ]
  },
  {
   "cell_type": "code",
   "execution_count": null,
   "metadata": {
    "ExecuteTime": {
     "end_time": "2021-12-01T20:24:27.175274Z",
     "start_time": "2021-12-01T20:24:24.009Z"
    },
    "scrolled": true
   },
   "outputs": [],
   "source": [
    "import pandas as pd\n",
    " \n",
    "pl = pd.DataFrame(data=data)\n",
    "pl.head(50)"
   ]
  },
  {
   "cell_type": "code",
   "execution_count": null,
   "metadata": {
    "ExecuteTime": {
     "end_time": "2021-12-01T20:24:27.176272Z",
     "start_time": "2021-12-01T20:24:24.010Z"
    }
   },
   "outputs": [],
   "source": [
    "pl.info()"
   ]
  },
  {
   "cell_type": "code",
   "execution_count": null,
   "metadata": {
    "ExecuteTime": {
     "end_time": "2021-12-01T20:24:27.177271Z",
     "start_time": "2021-12-01T20:24:24.011Z"
    }
   },
   "outputs": [],
   "source": [
    "# Getting rid of empty rows\n",
    "x = -1\n",
    "indexes = []\n",
    "for val in pl['squad_a'].values:\n",
    "    x += 1\n",
    "    if val == 0:\n",
    "        indexes.append(x)\n",
    "# Check\n",
    "pl.iloc[indexes].sum()"
   ]
  },
  {
   "cell_type": "code",
   "execution_count": null,
   "metadata": {
    "ExecuteTime": {
     "end_time": "2021-12-01T20:24:27.177271Z",
     "start_time": "2021-12-01T20:24:24.012Z"
    },
    "scrolled": true
   },
   "outputs": [],
   "source": [
    "pl.drop(indexes, axis=0, inplace=True)"
   ]
  },
  {
   "cell_type": "code",
   "execution_count": null,
   "metadata": {
    "ExecuteTime": {
     "end_time": "2021-12-01T20:24:27.178268Z",
     "start_time": "2021-12-01T20:24:24.013Z"
    }
   },
   "outputs": [],
   "source": [
    "pl.info()"
   ]
  },
  {
   "cell_type": "code",
   "execution_count": null,
   "metadata": {
    "ExecuteTime": {
     "end_time": "2021-12-01T20:24:27.179265Z",
     "start_time": "2021-12-01T20:24:24.015Z"
    }
   },
   "outputs": [],
   "source": [
    "# Number of PL matches\n",
    "first_3_yrs = 3*21*22\n",
    "onwards = 27*19*20\n",
    "total_games = first_3_yrs + onwards\n",
    "\n",
    "print(f\"Number of games in dataset equals the real number: {len(pl.score) == total_games}\")"
   ]
  },
  {
   "cell_type": "markdown",
   "metadata": {},
   "source": [
    "## Saving Scrapped Data "
   ]
  },
  {
   "cell_type": "code",
   "execution_count": null,
   "metadata": {
    "ExecuteTime": {
     "end_time": "2021-12-01T20:24:27.180263Z",
     "start_time": "2021-12-01T20:24:24.016Z"
    }
   },
   "outputs": [],
   "source": [
    "pl.to_csv('pl_scraped_data/PL_AllMatches_Scores_Links.csv', index=False)"
   ]
  },
  {
   "cell_type": "code",
   "execution_count": null,
   "metadata": {},
   "outputs": [],
   "source": []
  },
  {
   "cell_type": "markdown",
   "metadata": {},
   "source": [
    "# Getting the data from Fantasy Premier League API\n",
    "> One disadvantage is that the data there are just for the current season so it is impossible to get historical data\n",
    "> Resources:\n",
    "- https://medium.com/@frenzelts/fantasy-premier-league-api-endpoints-a-detailed-guide-acbd5598eb19"
   ]
  },
  {
   "cell_type": "code",
   "execution_count": null,
   "metadata": {
    "ExecuteTime": {
     "end_time": "2021-12-01T20:24:27.181259Z",
     "start_time": "2021-12-01T20:24:24.018Z"
    }
   },
   "outputs": [],
   "source": [
    "import requests"
   ]
  },
  {
   "cell_type": "markdown",
   "metadata": {},
   "source": [
    "#### General Endpoints"
   ]
  },
  {
   "cell_type": "code",
   "execution_count": null,
   "metadata": {
    "ExecuteTime": {
     "end_time": "2021-12-01T20:24:27.182257Z",
     "start_time": "2021-12-01T20:24:24.020Z"
    }
   },
   "outputs": [],
   "source": [
    "# Get API\n",
    "api = requests.get(' https://fantasy.premierleague.com/api/bootstrap-static/')\n",
    "json = api.json()\n",
    "\n",
    "# General \"Endpoints\"\n",
    "json.keys()"
   ]
  },
  {
   "cell_type": "markdown",
   "metadata": {
    "ExecuteTime": {
     "end_time": "2021-09-05T11:33:08.935772Z",
     "start_time": "2021-09-05T11:33:08.929788Z"
    }
   },
   "source": [
    "#### \"Fixtures\" Endpoint"
   ]
  },
  {
   "cell_type": "code",
   "execution_count": null,
   "metadata": {
    "ExecuteTime": {
     "end_time": "2021-12-01T20:24:27.183256Z",
     "start_time": "2021-12-01T20:24:24.021Z"
    }
   },
   "outputs": [],
   "source": [
    "# Get API\n",
    "api = requests.get(' https://fantasy.premierleague.com/api/fixtures/')\n",
    "json = api.json()\n",
    "\n",
    "# Number of dictionaries within FIXTURES list\n",
    "print(f\"{len(json)}: number of dictionaries about the fixtures\")\n",
    "\n",
    "game_weeks = []\n",
    "event_ids = []\n",
    "for fix in json:\n",
    "    if fix['started'] == True and fix['finished'] == True:\n",
    "        game_week = fix['event']\n",
    "        event_id = fix['id']\n",
    "        kickoff_time = fix['kickoff_time']\n",
    "        stats = fix['stats']\n",
    "        pulse_id = fix['pulse_id']\n",
    "    game_weeks.append(game_week)\n",
    "    event_ids.append(event_id)\n",
    "    \n",
    "print(event_ids)"
   ]
  },
  {
   "cell_type": "code",
   "execution_count": null,
   "metadata": {},
   "outputs": [],
   "source": []
  },
  {
   "cell_type": "code",
   "execution_count": null,
   "metadata": {},
   "outputs": [],
   "source": []
  },
  {
   "cell_type": "code",
   "execution_count": null,
   "metadata": {},
   "outputs": [],
   "source": []
  },
  {
   "cell_type": "code",
   "execution_count": null,
   "metadata": {},
   "outputs": [],
   "source": []
  }
 ],
 "metadata": {
  "kernelspec": {
   "display_name": "Python 3",
   "language": "python",
   "name": "python3"
  },
  "language_info": {
   "codemirror_mode": {
    "name": "ipython",
    "version": 3
   },
   "file_extension": ".py",
   "mimetype": "text/x-python",
   "name": "python",
   "nbconvert_exporter": "python",
   "pygments_lexer": "ipython3",
   "version": "3.8.3"
  },
  "toc": {
   "base_numbering": 1,
   "nav_menu": {},
   "number_sections": true,
   "sideBar": true,
   "skip_h1_title": false,
   "title_cell": "Table of Contents",
   "title_sidebar": "Contents",
   "toc_cell": false,
   "toc_position": {},
   "toc_section_display": true,
   "toc_window_display": false
  },
  "varInspector": {
   "cols": {
    "lenName": 16,
    "lenType": 16,
    "lenVar": 40
   },
   "kernels_config": {
    "python": {
     "delete_cmd_postfix": "",
     "delete_cmd_prefix": "del ",
     "library": "var_list.py",
     "varRefreshCmd": "print(var_dic_list())"
    },
    "r": {
     "delete_cmd_postfix": ") ",
     "delete_cmd_prefix": "rm(",
     "library": "var_list.r",
     "varRefreshCmd": "cat(var_dic_list()) "
    }
   },
   "types_to_exclude": [
    "module",
    "function",
    "builtin_function_or_method",
    "instance",
    "_Feature"
   ],
   "window_display": false
  }
 },
 "nbformat": 4,
 "nbformat_minor": 4
}
